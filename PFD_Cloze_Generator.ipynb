{
  "nbformat": 4,
  "nbformat_minor": 0,
  "metadata": {
    "colab": {
      "name": "PFD Cloze Generator",
      "provenance": [],
      "collapsed_sections": [],
      "toc_visible": true
    },
    "kernelspec": {
      "name": "python3",
      "display_name": "Python 3"
    },
    "language_info": {
      "name": "python"
    }
  },
  "cells": [
    {
      "cell_type": "markdown",
      "metadata": {
        "id": "LSVt33Y_Gjn8"
      },
      "source": [
        "## Creaton of Process Flow Diagram Pull-down Cloze Questions for Moodle Quiz\n",
        "### Copy and paste output field into the Moodle Quiz Input Field\n",
        "### Use [this Google Sheet](https://docs.google.com/spreadsheets/d/1els95ulHaqDJ2tmeWbkxdvpmwBapMH6CZXIHPbQu_-s/edit#gid=0) to create CSVs for input to the generator (in Google Sheets: file -> download -> CSV)\n",
        "\n",
        "## Press CTRL + F9 to run all"
      ]
    },
    {
      "cell_type": "markdown",
      "metadata": {
        "id": "kDVpMTFoaaY9"
      },
      "source": [
        "wish list \n",
        "\n",
        "\n",
        "*   htlm new line DONE\n",
        "*   Longer partial credit response DONE\n",
        "*   More than 10 steps -30 -- I DON'T think this is working yet. It gives me an error everytime I put more than 10. DONE??\n",
        "*   Allow multiple uploads or delete old file after use (PFD.csv) DONE\n",
        "*   Each step on a new line, not yet working DONE\n",
        "*   Introduce different mark weight per step DONE\n",
        "*   Ask if a new list of inputs is needed or not\n",
        "\n",
        "\n",
        "\n"
      ]
    },
    {
      "cell_type": "code",
      "metadata": {
        "id": "TheAWmxlHKFz"
      },
      "source": [
        "import numpy as np\n",
        "import pandas as pd\n",
        "import os, sys\n",
        "# import glob\n",
        "from google.colab import files\n",
        "\n",
        "blank = 'n/a'"
      ],
      "execution_count": 1,
      "outputs": []
    },
    {
      "cell_type": "markdown",
      "metadata": {
        "id": "3cAb5v60Jibl"
      },
      "source": [
        "Take the lists of possible values for processes and modifiers. \n",
        "## ONLY RUN THIS CELL IF A NEW LIST IS NEEDED\n"
      ]
    },
    {
      "cell_type": "code",
      "metadata": {
        "id": "wbF5ZJCH-9ex",
        "colab": {
          "resources": {
            "http://localhost:8080/nbextensions/google.colab/files.js": {
              "data": "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",
              "ok": true,
              "headers": [
                [
                  "content-type",
                  "application/javascript"
                ]
              ],
              "status": 200,
              "status_text": ""
            }
          },
          "base_uri": "https://localhost:8080/",
          "height": 160
        },
        "outputId": "f06539cd-d70c-4c79-90c3-9b44e2d8f1c1"
      },
      "source": [
        "#try:\n",
        "#  OptionsFilename\n",
        "#except NameError:\n",
        "\n",
        "print('Upload the CSV file with possible processes & modifiers')\n",
        "fileOptions = files.upload()\n",
        "OptionsFilename = next(iter(fileOptions))\n",
        "os.rename(OptionsFilename, 'PFDInputs.csv')\n",
        "\n",
        "#read PFD response options\n",
        "PFDinputs = pd.read_csv('PFDInputs.csv')\n",
        "PFDinputs\n",
        "\n",
        "#  truncate and add n/a values to process and modifier options\n",
        "Processes = PFDinputs[\"Process Options\"]\n",
        "Processes = (Processes.dropna()).values.tolist()\n",
        "\n",
        "Processes.append(blank)\n",
        "\n",
        "print(type(Processes))\n",
        "print(Processes)\n",
        "\n",
        "Modifiers = PFDinputs[\"Process Modifiers\"]\n",
        "Modifiers = (Modifiers.dropna()).values.tolist()\n",
        "#Modifiers = Modifiers.append(pd.Series([blank]), ignore_index = True)\n",
        "Modifiers.append(blank)\n",
        "print(Modifiers)"
      ],
      "execution_count": 8,
      "outputs": [
        {
          "output_type": "stream",
          "text": [
            "Upload the CSV file with possible processes & modifiers\n"
          ],
          "name": "stdout"
        },
        {
          "output_type": "display_data",
          "data": {
            "text/html": [
              "\n",
              "     <input type=\"file\" id=\"files-f3480f07-645a-454a-babc-4c691566b05c\" name=\"files[]\" multiple disabled\n",
              "        style=\"border:none\" />\n",
              "     <output id=\"result-f3480f07-645a-454a-babc-4c691566b05c\">\n",
              "      Upload widget is only available when the cell has been executed in the\n",
              "      current browser session. Please rerun this cell to enable.\n",
              "      </output>\n",
              "      <script src=\"/nbextensions/google.colab/files.js\"></script> "
            ],
            "text/plain": [
              "<IPython.core.display.HTML object>"
            ]
          },
          "metadata": {
            "tags": []
          }
        },
        {
          "output_type": "stream",
          "text": [
            "Saving Cloze Generator - PFD Inputs.csv to Cloze Generator - PFD Inputs.csv\n",
            "<class 'list'>\n",
            "['UV Lithography', 'DUV Lithography', 'EUV Lithography', 'DWL', 'Electro beam lithography (EBL)', 'Thermal Oxidation', 'Thermal Evaporation (ebeam)', 'Sputtering', 'CVD', 'LPCVD', 'PECVD', 'Lift-Off', 'Vapor etching', 'Pure chemical plasma etching', 'Pure physical plasma etching', 'RIE', 'DRIE', 'Inhibitor driven anisotropy', 'Standard wet etching (isotropic)', 'Anisotropic wet etching (KOH)', 'Electro deposition', 'n/a']\n",
            "['Silicon (Si)', 'poly Silicon (p-Si)', 'SiO<sub>2</sub> (Silicon Dioxide)', 'Si<sub>3</sub>N<sub>4</sub> (Silicon Nitride)', 'Al (Aluminium)', 'Au (Gold)', 'Cr (Chromium)', 'Ni (Nickel)', 'Pt (Platinum)', 'Ti (Titanium)', 'n/a']\n"
          ],
          "name": "stdout"
        }
      ]
    },
    {
      "cell_type": "markdown",
      "metadata": {
        "id": "HCamkoyLMBS0"
      },
      "source": [
        "Take the Process Flow Diagram Marking Scheme"
      ]
    },
    {
      "cell_type": "code",
      "metadata": {
        "id": "sPmYRaUGHZNt",
        "colab": {
          "resources": {
            "http://localhost:8080/nbextensions/google.colab/files.js": {
              "data": "Ly8gQ29weXJpZ2h0IDIwMTcgR29vZ2xlIExMQwovLwovLyBMaWNlbnNlZCB1bmRlciB0aGUgQXBhY2hlIExpY2Vuc2UsIFZlcnNpb24gMi4wICh0aGUgIkxpY2Vuc2UiKTsKLy8geW91IG1heSBub3QgdXNlIHRoaXMgZmlsZSBleGNlcHQgaW4gY29tcGxpYW5jZSB3aXRoIHRoZSBMaWNlbnNlLgovLyBZb3UgbWF5IG9idGFpbiBhIGNvcHkgb2YgdGhlIExpY2Vuc2UgYXQKLy8KLy8gICAgICBodHRwOi8vd3d3LmFwYWNoZS5vcmcvbGljZW5zZXMvTElDRU5TRS0yLjAKLy8KLy8gVW5sZXNzIHJlcXVpcmVkIGJ5IGFwcGxpY2FibGUgbGF3IG9yIGFncmVlZCB0byBpbiB3cml0aW5nLCBzb2Z0d2FyZQovLyBkaXN0cmlidXRlZCB1bmRlciB0aGUgTGljZW5zZSBpcyBkaXN0cmlidXRlZCBvbiBhbiAiQVMgSVMiIEJBU0lTLAovLyBXSVRIT1VUIFdBUlJBTlRJRVMgT1IgQ09ORElUSU9OUyBPRiBBTlkgS0lORCwgZWl0aGVyIGV4cHJlc3Mgb3IgaW1wbGllZC4KLy8gU2VlIHRoZSBMaWNlbnNlIGZvciB0aGUgc3BlY2lmaWMgbGFuZ3VhZ2UgZ292ZXJuaW5nIHBlcm1pc3Npb25zIGFuZAovLyBsaW1pdGF0aW9ucyB1bmRlciB0aGUgTGljZW5zZS4KCi8qKgogKiBAZmlsZW92ZXJ2aWV3IEhlbHBlcnMgZm9yIGdvb2dsZS5jb2xhYiBQeXRob24gbW9kdWxlLgogKi8KKGZ1bmN0aW9uKHNjb3BlKSB7CmZ1bmN0aW9uIHNwYW4odGV4dCwgc3R5bGVBdHRyaWJ1dGVzID0ge30pIHsKICBjb25zdCBlbGVtZW50ID0gZG9jdW1lbnQuY3JlYXRlRWxlbWVudCgnc3BhbicpOwogIGVsZW1lbnQudGV4dENvbnRlbnQgPSB0ZXh0OwogIGZvciAoY29uc3Qga2V5IG9mIE9iamVjdC5rZXlzKHN0eWxlQXR0cmlidXRlcykpIHsKICAgIGVsZW1lbnQuc3R5bGVba2V5XSA9IHN0eWxlQXR0cmlidXRlc1trZXldOwogIH0KICByZXR1cm4gZWxlbWVudDsKfQoKLy8gTWF4IG51bWJlciBvZiBieXRlcyB3aGljaCB3aWxsIGJlIHVwbG9hZGVkIGF0IGEgdGltZS4KY29uc3QgTUFYX1BBWUxPQURfU0laRSA9IDEwMCAqIDEwMjQ7CgpmdW5jdGlvbiBfdXBsb2FkRmlsZXMoaW5wdXRJZCwgb3V0cHV0SWQpIHsKICBjb25zdCBzdGVwcyA9IHVwbG9hZEZpbGVzU3RlcChpbnB1dElkLCBvdXRwdXRJZCk7CiAgY29uc3Qgb3V0cHV0RWxlbWVudCA9IGRvY3VtZW50LmdldEVsZW1lbnRCeUlkKG91dHB1dElkKTsKICAvLyBDYWNoZSBzdGVwcyBvbiB0aGUgb3V0cHV0RWxlbWVudCB0byBtYWtlIGl0IGF2YWlsYWJsZSBmb3IgdGhlIG5leHQgY2FsbAogIC8vIHRvIHVwbG9hZEZpbGVzQ29udGludWUgZnJvbSBQeXRob24uCiAgb3V0cHV0RWxlbWVudC5zdGVwcyA9IHN0ZXBzOwoKICByZXR1cm4gX3VwbG9hZEZpbGVzQ29udGludWUob3V0cHV0SWQpOwp9CgovLyBUaGlzIGlzIHJvdWdobHkgYW4gYXN5bmMgZ2VuZXJhdG9yIChub3Qgc3VwcG9ydGVkIGluIHRoZSBicm93c2VyIHlldCksCi8vIHdoZXJlIHRoZXJlIGFyZSBtdWx0aXBsZSBhc3luY2hyb25vdXMgc3RlcHMgYW5kIHRoZSBQeXRob24gc2lkZSBpcyBnb2luZwovLyB0byBwb2xsIGZvciBjb21wbGV0aW9uIG9mIGVhY2ggc3RlcC4KLy8gVGhpcyB1c2VzIGEgUHJvbWlzZSB0byBibG9jayB0aGUgcHl0aG9uIHNpZGUgb24gY29tcGxldGlvbiBvZiBlYWNoIHN0ZXAsCi8vIHRoZW4gcGFzc2VzIHRoZSByZXN1bHQgb2YgdGhlIHByZXZpb3VzIHN0ZXAgYXMgdGhlIGlucHV0IHRvIHRoZSBuZXh0IHN0ZXAuCmZ1bmN0aW9uIF91cGxvYWRGaWxlc0NvbnRpbnVlKG91dHB1dElkKSB7CiAgY29uc3Qgb3V0cHV0RWxlbWVudCA9IGRvY3VtZW50LmdldEVsZW1lbnRCeUlkKG91dHB1dElkKTsKICBjb25zdCBzdGVwcyA9IG91dHB1dEVsZW1lbnQuc3RlcHM7CgogIGNvbnN0IG5leHQgPSBzdGVwcy5uZXh0KG91dHB1dEVsZW1lbnQubGFzdFByb21pc2VWYWx1ZSk7CiAgcmV0dXJuIFByb21pc2UucmVzb2x2ZShuZXh0LnZhbHVlLnByb21pc2UpLnRoZW4oKHZhbHVlKSA9PiB7CiAgICAvLyBDYWNoZSB0aGUgbGFzdCBwcm9taXNlIHZhbHVlIHRvIG1ha2UgaXQgYXZhaWxhYmxlIHRvIHRoZSBuZXh0CiAgICAvLyBzdGVwIG9mIHRoZSBnZW5lcmF0b3IuCiAgICBvdXRwdXRFbGVtZW50Lmxhc3RQcm9taXNlVmFsdWUgPSB2YWx1ZTsKICAgIHJldHVybiBuZXh0LnZhbHVlLnJlc3BvbnNlOwogIH0pOwp9CgovKioKICogR2VuZXJhdG9yIGZ1bmN0aW9uIHdoaWNoIGlzIGNhbGxlZCBiZXR3ZWVuIGVhY2ggYXN5bmMgc3RlcCBvZiB0aGUgdXBsb2FkCiAqIHByb2Nlc3MuCiAqIEBwYXJhbSB7c3RyaW5nfSBpbnB1dElkIEVsZW1lbnQgSUQgb2YgdGhlIGlucHV0IGZpbGUgcGlja2VyIGVsZW1lbnQuCiAqIEBwYXJhbSB7c3RyaW5nfSBvdXRwdXRJZCBFbGVtZW50IElEIG9mIHRoZSBvdXRwdXQgZGlzcGxheS4KICogQHJldHVybiB7IUl0ZXJhYmxlPCFPYmplY3Q+fSBJdGVyYWJsZSBvZiBuZXh0IHN0ZXBzLgogKi8KZnVuY3Rpb24qIHVwbG9hZEZpbGVzU3RlcChpbnB1dElkLCBvdXRwdXRJZCkgewogIGNvbnN0IGlucHV0RWxlbWVudCA9IGRvY3VtZW50LmdldEVsZW1lbnRCeUlkKGlucHV0SWQpOwogIGlucHV0RWxlbWVudC5kaXNhYmxlZCA9IGZhbHNlOwoKICBjb25zdCBvdXRwdXRFbGVtZW50ID0gZG9jdW1lbnQuZ2V0RWxlbWVudEJ5SWQob3V0cHV0SWQpOwogIG91dHB1dEVsZW1lbnQuaW5uZXJIVE1MID0gJyc7CgogIGNvbnN0IHBpY2tlZFByb21pc2UgPSBuZXcgUHJvbWlzZSgocmVzb2x2ZSkgPT4gewogICAgaW5wdXRFbGVtZW50LmFkZEV2ZW50TGlzdGVuZXIoJ2NoYW5nZScsIChlKSA9PiB7CiAgICAgIHJlc29sdmUoZS50YXJnZXQuZmlsZXMpOwogICAgfSk7CiAgfSk7CgogIGNvbnN0IGNhbmNlbCA9IGRvY3VtZW50LmNyZWF0ZUVsZW1lbnQoJ2J1dHRvbicpOwogIGlucHV0RWxlbWVudC5wYXJlbnRFbGVtZW50LmFwcGVuZENoaWxkKGNhbmNlbCk7CiAgY2FuY2VsLnRleHRDb250ZW50ID0gJ0NhbmNlbCB1cGxvYWQnOwogIGNvbnN0IGNhbmNlbFByb21pc2UgPSBuZXcgUHJvbWlzZSgocmVzb2x2ZSkgPT4gewogICAgY2FuY2VsLm9uY2xpY2sgPSAoKSA9PiB7CiAgICAgIHJlc29sdmUobnVsbCk7CiAgICB9OwogIH0pOwoKICAvLyBXYWl0IGZvciB0aGUgdXNlciB0byBwaWNrIHRoZSBmaWxlcy4KICBjb25zdCBmaWxlcyA9IHlpZWxkIHsKICAgIHByb21pc2U6IFByb21pc2UucmFjZShbcGlja2VkUHJvbWlzZSwgY2FuY2VsUHJvbWlzZV0pLAogICAgcmVzcG9uc2U6IHsKICAgICAgYWN0aW9uOiAnc3RhcnRpbmcnLAogICAgfQogIH07CgogIGNhbmNlbC5yZW1vdmUoKTsKCiAgLy8gRGlzYWJsZSB0aGUgaW5wdXQgZWxlbWVudCBzaW5jZSBmdXJ0aGVyIHBpY2tzIGFyZSBub3QgYWxsb3dlZC4KICBpbnB1dEVsZW1lbnQuZGlzYWJsZWQgPSB0cnVlOwoKICBpZiAoIWZpbGVzKSB7CiAgICByZXR1cm4gewogICAgICByZXNwb25zZTogewogICAgICAgIGFjdGlvbjogJ2NvbXBsZXRlJywKICAgICAgfQogICAgfTsKICB9CgogIGZvciAoY29uc3QgZmlsZSBvZiBmaWxlcykgewogICAgY29uc3QgbGkgPSBkb2N1bWVudC5jcmVhdGVFbGVtZW50KCdsaScpOwogICAgbGkuYXBwZW5kKHNwYW4oZmlsZS5uYW1lLCB7Zm9udFdlaWdodDogJ2JvbGQnfSkpOwogICAgbGkuYXBwZW5kKHNwYW4oCiAgICAgICAgYCgke2ZpbGUudHlwZSB8fCAnbi9hJ30pIC0gJHtmaWxlLnNpemV9IGJ5dGVzLCBgICsKICAgICAgICBgbGFzdCBtb2RpZmllZDogJHsKICAgICAgICAgICAgZmlsZS5sYXN0TW9kaWZpZWREYXRlID8gZmlsZS5sYXN0TW9kaWZpZWREYXRlLnRvTG9jYWxlRGF0ZVN0cmluZygpIDoKICAgICAgICAgICAgICAgICAgICAgICAgICAgICAgICAgICAgJ24vYSd9IC0gYCkpOwogICAgY29uc3QgcGVyY2VudCA9IHNwYW4oJzAlIGRvbmUnKTsKICAgIGxpLmFwcGVuZENoaWxkKHBlcmNlbnQpOwoKICAgIG91dHB1dEVsZW1lbnQuYXBwZW5kQ2hpbGQobGkpOwoKICAgIGNvbnN0IGZpbGVEYXRhUHJvbWlzZSA9IG5ldyBQcm9taXNlKChyZXNvbHZlKSA9PiB7CiAgICAgIGNvbnN0IHJlYWRlciA9IG5ldyBGaWxlUmVhZGVyKCk7CiAgICAgIHJlYWRlci5vbmxvYWQgPSAoZSkgPT4gewogICAgICAgIHJlc29sdmUoZS50YXJnZXQucmVzdWx0KTsKICAgICAgfTsKICAgICAgcmVhZGVyLnJlYWRBc0FycmF5QnVmZmVyKGZpbGUpOwogICAgfSk7CiAgICAvLyBXYWl0IGZvciB0aGUgZGF0YSB0byBiZSByZWFkeS4KICAgIGxldCBmaWxlRGF0YSA9IHlpZWxkIHsKICAgICAgcHJvbWlzZTogZmlsZURhdGFQcm9taXNlLAogICAgICByZXNwb25zZTogewogICAgICAgIGFjdGlvbjogJ2NvbnRpbnVlJywKICAgICAgfQogICAgfTsKCiAgICAvLyBVc2UgYSBjaHVua2VkIHNlbmRpbmcgdG8gYXZvaWQgbWVzc2FnZSBzaXplIGxpbWl0cy4gU2VlIGIvNjIxMTU2NjAuCiAgICBsZXQgcG9zaXRpb24gPSAwOwogICAgd2hpbGUgKHBvc2l0aW9uIDwgZmlsZURhdGEuYnl0ZUxlbmd0aCkgewogICAgICBjb25zdCBsZW5ndGggPSBNYXRoLm1pbihmaWxlRGF0YS5ieXRlTGVuZ3RoIC0gcG9zaXRpb24sIE1BWF9QQVlMT0FEX1NJWkUpOwogICAgICBjb25zdCBjaHVuayA9IG5ldyBVaW50OEFycmF5KGZpbGVEYXRhLCBwb3NpdGlvbiwgbGVuZ3RoKTsKICAgICAgcG9zaXRpb24gKz0gbGVuZ3RoOwoKICAgICAgY29uc3QgYmFzZTY0ID0gYnRvYShTdHJpbmcuZnJvbUNoYXJDb2RlLmFwcGx5KG51bGwsIGNodW5rKSk7CiAgICAgIHlpZWxkIHsKICAgICAgICByZXNwb25zZTogewogICAgICAgICAgYWN0aW9uOiAnYXBwZW5kJywKICAgICAgICAgIGZpbGU6IGZpbGUubmFtZSwKICAgICAgICAgIGRhdGE6IGJhc2U2NCwKICAgICAgICB9LAogICAgICB9OwogICAgICBwZXJjZW50LnRleHRDb250ZW50ID0KICAgICAgICAgIGAke01hdGgucm91bmQoKHBvc2l0aW9uIC8gZmlsZURhdGEuYnl0ZUxlbmd0aCkgKiAxMDApfSUgZG9uZWA7CiAgICB9CiAgfQoKICAvLyBBbGwgZG9uZS4KICB5aWVsZCB7CiAgICByZXNwb25zZTogewogICAgICBhY3Rpb246ICdjb21wbGV0ZScsCiAgICB9CiAgfTsKfQoKc2NvcGUuZ29vZ2xlID0gc2NvcGUuZ29vZ2xlIHx8IHt9OwpzY29wZS5nb29nbGUuY29sYWIgPSBzY29wZS5nb29nbGUuY29sYWIgfHwge307CnNjb3BlLmdvb2dsZS5jb2xhYi5fZmlsZXMgPSB7CiAgX3VwbG9hZEZpbGVzLAogIF91cGxvYWRGaWxlc0NvbnRpbnVlLAp9Owp9KShzZWxmKTsK",
              "ok": true,
              "headers": [
                [
                  "content-type",
                  "application/javascript"
                ]
              ],
              "status": 200,
              "status_text": ""
            }
          },
          "base_uri": "https://localhost:8080/",
          "height": 89
        },
        "outputId": "3b1fb8b8-323e-4a84-8cb0-6f7474b1cb42"
      },
      "source": [
        "print('Upload the CSV file with the diagram question parameters')\n",
        "fileDiagram = files.upload()\n",
        "#print(\"the file name is: \" + str(fileDiagram))\n",
        "DiagramFilename = next(iter(fileDiagram))\n",
        "os.rename(DiagramFilename, 'PFD.csv')"
      ],
      "execution_count": 10,
      "outputs": [
        {
          "output_type": "stream",
          "text": [
            "Upload the CSV file with the diagram question parameters\n"
          ],
          "name": "stdout"
        },
        {
          "output_type": "display_data",
          "data": {
            "text/html": [
              "\n",
              "     <input type=\"file\" id=\"files-b8487c22-b3ed-4ce8-9659-8b1955c6d86e\" name=\"files[]\" multiple disabled\n",
              "        style=\"border:none\" />\n",
              "     <output id=\"result-b8487c22-b3ed-4ce8-9659-8b1955c6d86e\">\n",
              "      Upload widget is only available when the cell has been executed in the\n",
              "      current browser session. Please rerun this cell to enable.\n",
              "      </output>\n",
              "      <script src=\"/nbextensions/google.colab/files.js\"></script> "
            ],
            "text/plain": [
              "<IPython.core.display.HTML object>"
            ]
          },
          "metadata": {
            "tags": []
          }
        },
        {
          "output_type": "stream",
          "text": [
            "Saving Cloze Generator - PFD Generator.csv to Cloze Generator - PFD Generator.csv\n"
          ],
          "name": "stdout"
        }
      ]
    },
    {
      "cell_type": "markdown",
      "metadata": {
        "id": "7OIXITMdWx3-"
      },
      "source": [
        "Create dataframes from csv inputs"
      ]
    },
    {
      "cell_type": "code",
      "metadata": {
        "id": "Ren2OAnCXI9e",
        "colab": {
          "base_uri": "https://localhost:8080/",
          "height": 580
        },
        "outputId": "12c857d3-37b2-413d-91f2-a204af108121"
      },
      "source": [
        "#read PFD schematic\n",
        "df = pd.read_csv('PFD.csv', header=None, usecols=[0,1,2,3,4,5,6,7,8,9,10], skiprows=5,nrows=30)\n",
        "#print('Upload the CSV file with the diagram question parameters')\n",
        "##### df = pd.read_csv(files.upload(), header=None, usecols=[0,1,2,3,4,5,6,7,8], skiprows=5,nrows=30)\n",
        "#check for longest of columns 0, 1, 3, or 6 and trim to length of longest\n",
        "trim = int(0)\n",
        "for col in [0,1,3,6]:\n",
        "  key = df.index.get_loc(df[col].last_valid_index())\n",
        "  if key > trim:\n",
        "    trim = key\n",
        "  else:\n",
        "    break\n",
        "\n",
        "df = df.truncate(after = trim)\n",
        "\n",
        "\n",
        "# drop column 0\n",
        "df = df.drop([0], axis=1)\n",
        "\n",
        "\n",
        "print(df)\n",
        "df.columns = [\"Pro_full\",\"Grade\",\"Mod_full\",\"Grade_mod\",\"Pro_part_1\",\"Mod_part_1\",\"Part_1\",\"Pro_part_2\",\"Mod_part_2\",\"Part_2\"]\n",
        "df['Grade'] = (df['Grade'].fillna(1)).astype(int)\n",
        "df['Grade_mod'] = (df['Grade_mod'].fillna(1)).astype(int)\n",
        "df['Part_1'] = (df['Part_1'].fillna(0)).astype(int)\n",
        "df['Part_2'] = (df['Part_2'].fillna(0)).astype(int)\n",
        "df = df.replace(np.nan, blank, regex=True)\n",
        "\n",
        "df\n",
        "#delete CSV\n",
        "os.remove('PFD.csv')\n",
        "\n",
        "df"
      ],
      "execution_count": 11,
      "outputs": [
        {
          "output_type": "stream",
          "text": [
            "                            1   2   ...  9   10\n",
            "0                        PECVD   2  ... NaN NaN\n",
            "1               UV Lithography   2  ... NaN NaN\n",
            "2  Thermal Evaporation (ebeam)   2  ... NaN NaN\n",
            "3                     Lift-Off   2  ... NaN NaN\n",
            "4                        PECVD   2  ... NaN NaN\n",
            "5               UV Lithography   2  ... NaN NaN\n",
            "6                          RIE   2  ... NaN NaN\n",
            "7                          NaN   1  ... NaN NaN\n",
            "8                          NaN   1  ... NaN NaN\n",
            "9                          NaN   1  ... NaN NaN\n",
            "\n",
            "[10 rows x 10 columns]\n"
          ],
          "name": "stdout"
        },
        {
          "output_type": "execute_result",
          "data": {
            "text/html": [
              "<div>\n",
              "<style scoped>\n",
              "    .dataframe tbody tr th:only-of-type {\n",
              "        vertical-align: middle;\n",
              "    }\n",
              "\n",
              "    .dataframe tbody tr th {\n",
              "        vertical-align: top;\n",
              "    }\n",
              "\n",
              "    .dataframe thead th {\n",
              "        text-align: right;\n",
              "    }\n",
              "</style>\n",
              "<table border=\"1\" class=\"dataframe\">\n",
              "  <thead>\n",
              "    <tr style=\"text-align: right;\">\n",
              "      <th></th>\n",
              "      <th>Pro_full</th>\n",
              "      <th>Grade</th>\n",
              "      <th>Mod_full</th>\n",
              "      <th>Grade_mod</th>\n",
              "      <th>Pro_part_1</th>\n",
              "      <th>Mod_part_1</th>\n",
              "      <th>Part_1</th>\n",
              "      <th>Pro_part_2</th>\n",
              "      <th>Mod_part_2</th>\n",
              "      <th>Part_2</th>\n",
              "    </tr>\n",
              "  </thead>\n",
              "  <tbody>\n",
              "    <tr>\n",
              "      <th>0</th>\n",
              "      <td>PECVD</td>\n",
              "      <td>2</td>\n",
              "      <td>Si&lt;sub&gt;3&lt;/sub&gt;N&lt;sub&gt;4&lt;/sub&gt; (Silicon Nitride)</td>\n",
              "      <td>1</td>\n",
              "      <td>Sputtering</td>\n",
              "      <td>Si&lt;sub&gt;3&lt;/sub&gt;N&lt;sub&gt;4&lt;/sub&gt; (Silicon Nitride)</td>\n",
              "      <td>50</td>\n",
              "      <td>n/a</td>\n",
              "      <td>n/a</td>\n",
              "      <td>0</td>\n",
              "    </tr>\n",
              "    <tr>\n",
              "      <th>1</th>\n",
              "      <td>UV Lithography</td>\n",
              "      <td>2</td>\n",
              "      <td>n/a</td>\n",
              "      <td>1</td>\n",
              "      <td>n/a</td>\n",
              "      <td>n/a</td>\n",
              "      <td>0</td>\n",
              "      <td>n/a</td>\n",
              "      <td>n/a</td>\n",
              "      <td>0</td>\n",
              "    </tr>\n",
              "    <tr>\n",
              "      <th>2</th>\n",
              "      <td>Thermal Evaporation (ebeam)</td>\n",
              "      <td>2</td>\n",
              "      <td>Al (Aluminium)</td>\n",
              "      <td>1</td>\n",
              "      <td>Sputtering</td>\n",
              "      <td>Al (Aluminium)</td>\n",
              "      <td>25</td>\n",
              "      <td>n/a</td>\n",
              "      <td>n/a</td>\n",
              "      <td>0</td>\n",
              "    </tr>\n",
              "    <tr>\n",
              "      <th>3</th>\n",
              "      <td>Lift-Off</td>\n",
              "      <td>2</td>\n",
              "      <td>n/a</td>\n",
              "      <td>1</td>\n",
              "      <td>n/a</td>\n",
              "      <td>n/a</td>\n",
              "      <td>0</td>\n",
              "      <td>n/a</td>\n",
              "      <td>n/a</td>\n",
              "      <td>0</td>\n",
              "    </tr>\n",
              "    <tr>\n",
              "      <th>4</th>\n",
              "      <td>PECVD</td>\n",
              "      <td>2</td>\n",
              "      <td>Si&lt;sub&gt;3&lt;/sub&gt;N&lt;sub&gt;4&lt;/sub&gt; (Silicon Nitride)</td>\n",
              "      <td>1</td>\n",
              "      <td>Sputtering</td>\n",
              "      <td>Si&lt;sub&gt;3&lt;/sub&gt;N&lt;sub&gt;4&lt;/sub&gt; (Silicon Nitride)</td>\n",
              "      <td>50</td>\n",
              "      <td>n/a</td>\n",
              "      <td>n/a</td>\n",
              "      <td>0</td>\n",
              "    </tr>\n",
              "    <tr>\n",
              "      <th>5</th>\n",
              "      <td>UV Lithography</td>\n",
              "      <td>2</td>\n",
              "      <td>n/a</td>\n",
              "      <td>1</td>\n",
              "      <td>n/a</td>\n",
              "      <td>n/a</td>\n",
              "      <td>0</td>\n",
              "      <td>n/a</td>\n",
              "      <td>n/a</td>\n",
              "      <td>0</td>\n",
              "    </tr>\n",
              "    <tr>\n",
              "      <th>6</th>\n",
              "      <td>RIE</td>\n",
              "      <td>2</td>\n",
              "      <td>Si&lt;sub&gt;3&lt;/sub&gt;N&lt;sub&gt;4&lt;/sub&gt; (Silicon Nitride)</td>\n",
              "      <td>3</td>\n",
              "      <td>n/a</td>\n",
              "      <td>n/a</td>\n",
              "      <td>0</td>\n",
              "      <td>n/a</td>\n",
              "      <td>n/a</td>\n",
              "      <td>0</td>\n",
              "    </tr>\n",
              "    <tr>\n",
              "      <th>7</th>\n",
              "      <td>n/a</td>\n",
              "      <td>1</td>\n",
              "      <td>n/a</td>\n",
              "      <td>1</td>\n",
              "      <td>n/a</td>\n",
              "      <td>n/a</td>\n",
              "      <td>0</td>\n",
              "      <td>n/a</td>\n",
              "      <td>n/a</td>\n",
              "      <td>0</td>\n",
              "    </tr>\n",
              "    <tr>\n",
              "      <th>8</th>\n",
              "      <td>n/a</td>\n",
              "      <td>1</td>\n",
              "      <td>n/a</td>\n",
              "      <td>1</td>\n",
              "      <td>n/a</td>\n",
              "      <td>n/a</td>\n",
              "      <td>0</td>\n",
              "      <td>n/a</td>\n",
              "      <td>n/a</td>\n",
              "      <td>0</td>\n",
              "    </tr>\n",
              "    <tr>\n",
              "      <th>9</th>\n",
              "      <td>n/a</td>\n",
              "      <td>1</td>\n",
              "      <td>n/a</td>\n",
              "      <td>1</td>\n",
              "      <td>n/a</td>\n",
              "      <td>n/a</td>\n",
              "      <td>0</td>\n",
              "      <td>n/a</td>\n",
              "      <td>n/a</td>\n",
              "      <td>0</td>\n",
              "    </tr>\n",
              "  </tbody>\n",
              "</table>\n",
              "</div>"
            ],
            "text/plain": [
              "                      Pro_full  Grade  ... Mod_part_2  Part_2\n",
              "0                        PECVD      2  ...        n/a       0\n",
              "1               UV Lithography      2  ...        n/a       0\n",
              "2  Thermal Evaporation (ebeam)      2  ...        n/a       0\n",
              "3                     Lift-Off      2  ...        n/a       0\n",
              "4                        PECVD      2  ...        n/a       0\n",
              "5               UV Lithography      2  ...        n/a       0\n",
              "6                          RIE      2  ...        n/a       0\n",
              "7                          n/a      1  ...        n/a       0\n",
              "8                          n/a      1  ...        n/a       0\n",
              "9                          n/a      1  ...        n/a       0\n",
              "\n",
              "[10 rows x 10 columns]"
            ]
          },
          "metadata": {
            "tags": []
          },
          "execution_count": 11
        }
      ]
    },
    {
      "cell_type": "markdown",
      "metadata": {
        "id": "51aN1Z9ZYmnn"
      },
      "source": [
        "Confirm size of question"
      ]
    },
    {
      "cell_type": "code",
      "metadata": {
        "id": "q1Mm4uUfYCCZ",
        "colab": {
          "base_uri": "https://localhost:8080/",
          "height": 427
        },
        "outputId": "0c6f7853-eee6-4672-ea95-56511623e733"
      },
      "source": [
        "# Check if there are any blanks in the full-valule solution\n",
        "if df.Pro_full[len(df.Pro_full)-1] != blank:\n",
        "  firstBlank = len(df.Pro_full)-1\n",
        "else:\n",
        "    firstBlank = (df[df.Pro_full == blank].index.values)[0] #this was originally looking for n/a's, but now has to look for blanks\n",
        "#print(type(firstBlank))\n",
        "print('There are ' + str(firstBlank+1) + ' steps in the full-credit solution, and ' + str(len(df)) + ' rows provided.\\n')\n",
        "answer = input(\"Would you like to limit the number of rows\\n>(y/N)?\")\n",
        "#print(answer), print(type(answer))\n",
        "if answer == '' : answer = 'n'\n",
        "\n",
        "if answer[0] == \"y\" or answer[0] == \"Y\":\n",
        "  #print('answer is yes')\n",
        "  length = input(\"Provide the number of rows (<\" + str(len(df)) +\")\\n\")\n",
        "  if length == '' : length = str(len(df))\n",
        "  newLimit = int(length)\n",
        "  #print(type(newLimit))\n",
        "  if newLimit < firstBlank:\n",
        "    newLimit = firstBlank \n",
        "    print('Cannot make the question shorter than the primary process (' + str(newLimit) + ')')\n",
        "  elif newLimit > len(df):\n",
        "    newLimit = len(df) \n",
        "    print('No change, question lengh remains at ' + str(newLimit))\n",
        "  else:\n",
        "    print('New question length = ' + str(newLimit))\n",
        "    \n",
        "else:\n",
        "  newLimit = len(df) \n",
        "#print(newLimit)\n",
        "df = df.truncate(after = (newLimit-1))\n",
        "#dfNew\n",
        "#df[Pro_full]\n",
        "#df = df.apply(int)\n",
        "df\n",
        "\n"
      ],
      "execution_count": 12,
      "outputs": [
        {
          "output_type": "stream",
          "text": [
            "There are 8 steps in the full-credit solution, and 10 rows provided.\n",
            "\n",
            "Would you like to limit the number of rows\n",
            ">(y/N)?n\n"
          ],
          "name": "stdout"
        },
        {
          "output_type": "execute_result",
          "data": {
            "text/html": [
              "<div>\n",
              "<style scoped>\n",
              "    .dataframe tbody tr th:only-of-type {\n",
              "        vertical-align: middle;\n",
              "    }\n",
              "\n",
              "    .dataframe tbody tr th {\n",
              "        vertical-align: top;\n",
              "    }\n",
              "\n",
              "    .dataframe thead th {\n",
              "        text-align: right;\n",
              "    }\n",
              "</style>\n",
              "<table border=\"1\" class=\"dataframe\">\n",
              "  <thead>\n",
              "    <tr style=\"text-align: right;\">\n",
              "      <th></th>\n",
              "      <th>Pro_full</th>\n",
              "      <th>Grade</th>\n",
              "      <th>Mod_full</th>\n",
              "      <th>Grade_mod</th>\n",
              "      <th>Pro_part_1</th>\n",
              "      <th>Mod_part_1</th>\n",
              "      <th>Part_1</th>\n",
              "      <th>Pro_part_2</th>\n",
              "      <th>Mod_part_2</th>\n",
              "      <th>Part_2</th>\n",
              "    </tr>\n",
              "  </thead>\n",
              "  <tbody>\n",
              "    <tr>\n",
              "      <th>0</th>\n",
              "      <td>PECVD</td>\n",
              "      <td>2</td>\n",
              "      <td>Si&lt;sub&gt;3&lt;/sub&gt;N&lt;sub&gt;4&lt;/sub&gt; (Silicon Nitride)</td>\n",
              "      <td>1</td>\n",
              "      <td>Sputtering</td>\n",
              "      <td>Si&lt;sub&gt;3&lt;/sub&gt;N&lt;sub&gt;4&lt;/sub&gt; (Silicon Nitride)</td>\n",
              "      <td>50</td>\n",
              "      <td>n/a</td>\n",
              "      <td>n/a</td>\n",
              "      <td>0</td>\n",
              "    </tr>\n",
              "    <tr>\n",
              "      <th>1</th>\n",
              "      <td>UV Lithography</td>\n",
              "      <td>2</td>\n",
              "      <td>n/a</td>\n",
              "      <td>1</td>\n",
              "      <td>n/a</td>\n",
              "      <td>n/a</td>\n",
              "      <td>0</td>\n",
              "      <td>n/a</td>\n",
              "      <td>n/a</td>\n",
              "      <td>0</td>\n",
              "    </tr>\n",
              "    <tr>\n",
              "      <th>2</th>\n",
              "      <td>Thermal Evaporation (ebeam)</td>\n",
              "      <td>2</td>\n",
              "      <td>Al (Aluminium)</td>\n",
              "      <td>1</td>\n",
              "      <td>Sputtering</td>\n",
              "      <td>Al (Aluminium)</td>\n",
              "      <td>25</td>\n",
              "      <td>n/a</td>\n",
              "      <td>n/a</td>\n",
              "      <td>0</td>\n",
              "    </tr>\n",
              "    <tr>\n",
              "      <th>3</th>\n",
              "      <td>Lift-Off</td>\n",
              "      <td>2</td>\n",
              "      <td>n/a</td>\n",
              "      <td>1</td>\n",
              "      <td>n/a</td>\n",
              "      <td>n/a</td>\n",
              "      <td>0</td>\n",
              "      <td>n/a</td>\n",
              "      <td>n/a</td>\n",
              "      <td>0</td>\n",
              "    </tr>\n",
              "    <tr>\n",
              "      <th>4</th>\n",
              "      <td>PECVD</td>\n",
              "      <td>2</td>\n",
              "      <td>Si&lt;sub&gt;3&lt;/sub&gt;N&lt;sub&gt;4&lt;/sub&gt; (Silicon Nitride)</td>\n",
              "      <td>1</td>\n",
              "      <td>Sputtering</td>\n",
              "      <td>Si&lt;sub&gt;3&lt;/sub&gt;N&lt;sub&gt;4&lt;/sub&gt; (Silicon Nitride)</td>\n",
              "      <td>50</td>\n",
              "      <td>n/a</td>\n",
              "      <td>n/a</td>\n",
              "      <td>0</td>\n",
              "    </tr>\n",
              "    <tr>\n",
              "      <th>5</th>\n",
              "      <td>UV Lithography</td>\n",
              "      <td>2</td>\n",
              "      <td>n/a</td>\n",
              "      <td>1</td>\n",
              "      <td>n/a</td>\n",
              "      <td>n/a</td>\n",
              "      <td>0</td>\n",
              "      <td>n/a</td>\n",
              "      <td>n/a</td>\n",
              "      <td>0</td>\n",
              "    </tr>\n",
              "    <tr>\n",
              "      <th>6</th>\n",
              "      <td>RIE</td>\n",
              "      <td>2</td>\n",
              "      <td>Si&lt;sub&gt;3&lt;/sub&gt;N&lt;sub&gt;4&lt;/sub&gt; (Silicon Nitride)</td>\n",
              "      <td>3</td>\n",
              "      <td>n/a</td>\n",
              "      <td>n/a</td>\n",
              "      <td>0</td>\n",
              "      <td>n/a</td>\n",
              "      <td>n/a</td>\n",
              "      <td>0</td>\n",
              "    </tr>\n",
              "    <tr>\n",
              "      <th>7</th>\n",
              "      <td>n/a</td>\n",
              "      <td>1</td>\n",
              "      <td>n/a</td>\n",
              "      <td>1</td>\n",
              "      <td>n/a</td>\n",
              "      <td>n/a</td>\n",
              "      <td>0</td>\n",
              "      <td>n/a</td>\n",
              "      <td>n/a</td>\n",
              "      <td>0</td>\n",
              "    </tr>\n",
              "    <tr>\n",
              "      <th>8</th>\n",
              "      <td>n/a</td>\n",
              "      <td>1</td>\n",
              "      <td>n/a</td>\n",
              "      <td>1</td>\n",
              "      <td>n/a</td>\n",
              "      <td>n/a</td>\n",
              "      <td>0</td>\n",
              "      <td>n/a</td>\n",
              "      <td>n/a</td>\n",
              "      <td>0</td>\n",
              "    </tr>\n",
              "    <tr>\n",
              "      <th>9</th>\n",
              "      <td>n/a</td>\n",
              "      <td>1</td>\n",
              "      <td>n/a</td>\n",
              "      <td>1</td>\n",
              "      <td>n/a</td>\n",
              "      <td>n/a</td>\n",
              "      <td>0</td>\n",
              "      <td>n/a</td>\n",
              "      <td>n/a</td>\n",
              "      <td>0</td>\n",
              "    </tr>\n",
              "  </tbody>\n",
              "</table>\n",
              "</div>"
            ],
            "text/plain": [
              "                      Pro_full  Grade  ... Mod_part_2  Part_2\n",
              "0                        PECVD      2  ...        n/a       0\n",
              "1               UV Lithography      2  ...        n/a       0\n",
              "2  Thermal Evaporation (ebeam)      2  ...        n/a       0\n",
              "3                     Lift-Off      2  ...        n/a       0\n",
              "4                        PECVD      2  ...        n/a       0\n",
              "5               UV Lithography      2  ...        n/a       0\n",
              "6                          RIE      2  ...        n/a       0\n",
              "7                          n/a      1  ...        n/a       0\n",
              "8                          n/a      1  ...        n/a       0\n",
              "9                          n/a      1  ...        n/a       0\n",
              "\n",
              "[10 rows x 10 columns]"
            ]
          },
          "metadata": {
            "tags": []
          },
          "execution_count": 12
        }
      ]
    },
    {
      "cell_type": "markdown",
      "metadata": {
        "id": "s9OZjV_rrJ8i"
      },
      "source": [
        "# Create the output to copy/paste into the Moodle Quiz (Cloze type question)"
      ]
    },
    {
      "cell_type": "code",
      "metadata": {
        "id": "jQqPAkuprScU",
        "colab": {
          "base_uri": "https://localhost:8080/"
        },
        "outputId": "5b88f998-fc09-4012-9f48-13566bae9a0a"
      },
      "source": [
        "output = \"\"\n",
        "for grade,step,grade_mod in zip(df[\"Grade\"],list(range(0,len(df[\"Pro_full\"]))),df[\"Grade_mod\"]):\n",
        "#for step in list(range(0,len(df[\"Pro_full\"]))):\n",
        "    output += \"Step \"\n",
        "    if len(str(step+1)) == 1: output += '  '\n",
        "    output += str(step+1)\n",
        "\n",
        "# this line to be removed ->\n",
        "#    output += \": {2:MULTICHOICE:\"\n",
        "\n",
        "# <<< Uncomment the below when ready and remove above >>>\n",
        "    output += \": {\"\n",
        "# Concatenate step value (Grade)\n",
        "    output += str(grade)\n",
        "\n",
        "    output += \":MULTICHOICE:\"\n",
        "\n",
        "    for i in Processes:\n",
        "# set value awarded for process (Full, Partial 1, or Partial 2)\n",
        "        output += \"%\"\n",
        "        if df[\"Pro_full\"][step] == i:\n",
        "            output += \"100\"\n",
        "        elif df[\"Pro_part_1\"][step] == i: #this is where the problem is\n",
        "            output += str(df[\"Part_1\"][step])\n",
        "        elif df[\"Pro_part_2\"][step] == i:\n",
        "            output += str(df[\"Part_2\"][step])\n",
        "        else:\n",
        "            output += \"0\"\n",
        "        output += \"%\"\n",
        "        output += i\n",
        "        if i != Processes[-1]:\n",
        "            output += \"~\"\n",
        "        else:\n",
        "            break\n",
        "\n",
        "# set value awarded for modifier (Full, Partial 1, or Partial 2)\n",
        "    output += \"}\"\n",
        "\n",
        "    output += \" of {\"\n",
        "    output += str(grade_mod)\n",
        "    output += \":MULTICHOICE:\"\n",
        "    for i in Modifiers:\n",
        "        output += \"%\"\n",
        "        if df[\"Mod_full\"][step] == i:\n",
        "            output += \"100\"\n",
        "        elif df[\"Mod_part_1\"][step] == i:  #this is where the problem is\n",
        "            output += str(df[\"Part_1\"][step])\n",
        "        elif df[\"Mod_part_2\"][step] == i:\n",
        "            output += str(df[\"Part_2\"][step])\n",
        "        else:\n",
        "            output += \"0\"\n",
        "        output += \"%\"\n",
        "        # currently inputting n/a%n/a rather than 0%n/a\n",
        "        output += i\n",
        "        if i != Modifiers[-1]:\n",
        "            output += \"~\"\n",
        "        else:\n",
        "            break\n",
        "    output += \"}\"\n",
        "#    output += '<br>'\n",
        "    output += \"\\n\\r\\n\"\n",
        "print(output)"
      ],
      "execution_count": 13,
      "outputs": [
        {
          "output_type": "stream",
          "text": [
            "Step   1: {2:MULTICHOICE:%0%UV Lithography~%0%DUV Lithography~%0%EUV Lithography~%0%DWL~%0%Electro beam lithography (EBL)~%0%Thermal Oxidation~%0%Thermal Evaporation (ebeam)~%50%Sputtering~%0%CVD~%0%LPCVD~%100%PECVD~%0%Lift-Off~%0%Vapor etching~%0%Pure chemical plasma etching~%0%Pure physical plasma etching~%0%RIE~%0%DRIE~%0%Inhibitor driven anisotropy~%0%Standard wet etching (isotropic)~%0%Anisotropic wet etching (KOH)~%0%Electro deposition~%0%n/a} of {1:MULTICHOICE:%0%Silicon (Si)~%0%poly Silicon (p-Si)~%0%SiO<sub>2</sub> (Silicon Dioxide)~%100%Si<sub>3</sub>N<sub>4</sub> (Silicon Nitride)~%0%Al (Aluminium)~%0%Au (Gold)~%0%Cr (Chromium)~%0%Ni (Nickel)~%0%Pt (Platinum)~%0%Ti (Titanium)~%0%n/a}\n",
            "\r\n",
            "Step   2: {2:MULTICHOICE:%100%UV Lithography~%0%DUV Lithography~%0%EUV Lithography~%0%DWL~%0%Electro beam lithography (EBL)~%0%Thermal Oxidation~%0%Thermal Evaporation (ebeam)~%0%Sputtering~%0%CVD~%0%LPCVD~%0%PECVD~%0%Lift-Off~%0%Vapor etching~%0%Pure chemical plasma etching~%0%Pure physical plasma etching~%0%RIE~%0%DRIE~%0%Inhibitor driven anisotropy~%0%Standard wet etching (isotropic)~%0%Anisotropic wet etching (KOH)~%0%Electro deposition~%0%n/a} of {1:MULTICHOICE:%0%Silicon (Si)~%0%poly Silicon (p-Si)~%0%SiO<sub>2</sub> (Silicon Dioxide)~%0%Si<sub>3</sub>N<sub>4</sub> (Silicon Nitride)~%0%Al (Aluminium)~%0%Au (Gold)~%0%Cr (Chromium)~%0%Ni (Nickel)~%0%Pt (Platinum)~%0%Ti (Titanium)~%100%n/a}\n",
            "\r\n",
            "Step   3: {2:MULTICHOICE:%0%UV Lithography~%0%DUV Lithography~%0%EUV Lithography~%0%DWL~%0%Electro beam lithography (EBL)~%0%Thermal Oxidation~%100%Thermal Evaporation (ebeam)~%25%Sputtering~%0%CVD~%0%LPCVD~%0%PECVD~%0%Lift-Off~%0%Vapor etching~%0%Pure chemical plasma etching~%0%Pure physical plasma etching~%0%RIE~%0%DRIE~%0%Inhibitor driven anisotropy~%0%Standard wet etching (isotropic)~%0%Anisotropic wet etching (KOH)~%0%Electro deposition~%0%n/a} of {1:MULTICHOICE:%0%Silicon (Si)~%0%poly Silicon (p-Si)~%0%SiO<sub>2</sub> (Silicon Dioxide)~%0%Si<sub>3</sub>N<sub>4</sub> (Silicon Nitride)~%100%Al (Aluminium)~%0%Au (Gold)~%0%Cr (Chromium)~%0%Ni (Nickel)~%0%Pt (Platinum)~%0%Ti (Titanium)~%0%n/a}\n",
            "\r\n",
            "Step   4: {2:MULTICHOICE:%0%UV Lithography~%0%DUV Lithography~%0%EUV Lithography~%0%DWL~%0%Electro beam lithography (EBL)~%0%Thermal Oxidation~%0%Thermal Evaporation (ebeam)~%0%Sputtering~%0%CVD~%0%LPCVD~%0%PECVD~%100%Lift-Off~%0%Vapor etching~%0%Pure chemical plasma etching~%0%Pure physical plasma etching~%0%RIE~%0%DRIE~%0%Inhibitor driven anisotropy~%0%Standard wet etching (isotropic)~%0%Anisotropic wet etching (KOH)~%0%Electro deposition~%0%n/a} of {1:MULTICHOICE:%0%Silicon (Si)~%0%poly Silicon (p-Si)~%0%SiO<sub>2</sub> (Silicon Dioxide)~%0%Si<sub>3</sub>N<sub>4</sub> (Silicon Nitride)~%0%Al (Aluminium)~%0%Au (Gold)~%0%Cr (Chromium)~%0%Ni (Nickel)~%0%Pt (Platinum)~%0%Ti (Titanium)~%100%n/a}\n",
            "\r\n",
            "Step   5: {2:MULTICHOICE:%0%UV Lithography~%0%DUV Lithography~%0%EUV Lithography~%0%DWL~%0%Electro beam lithography (EBL)~%0%Thermal Oxidation~%0%Thermal Evaporation (ebeam)~%50%Sputtering~%0%CVD~%0%LPCVD~%100%PECVD~%0%Lift-Off~%0%Vapor etching~%0%Pure chemical plasma etching~%0%Pure physical plasma etching~%0%RIE~%0%DRIE~%0%Inhibitor driven anisotropy~%0%Standard wet etching (isotropic)~%0%Anisotropic wet etching (KOH)~%0%Electro deposition~%0%n/a} of {1:MULTICHOICE:%0%Silicon (Si)~%0%poly Silicon (p-Si)~%0%SiO<sub>2</sub> (Silicon Dioxide)~%100%Si<sub>3</sub>N<sub>4</sub> (Silicon Nitride)~%0%Al (Aluminium)~%0%Au (Gold)~%0%Cr (Chromium)~%0%Ni (Nickel)~%0%Pt (Platinum)~%0%Ti (Titanium)~%0%n/a}\n",
            "\r\n",
            "Step   6: {2:MULTICHOICE:%100%UV Lithography~%0%DUV Lithography~%0%EUV Lithography~%0%DWL~%0%Electro beam lithography (EBL)~%0%Thermal Oxidation~%0%Thermal Evaporation (ebeam)~%0%Sputtering~%0%CVD~%0%LPCVD~%0%PECVD~%0%Lift-Off~%0%Vapor etching~%0%Pure chemical plasma etching~%0%Pure physical plasma etching~%0%RIE~%0%DRIE~%0%Inhibitor driven anisotropy~%0%Standard wet etching (isotropic)~%0%Anisotropic wet etching (KOH)~%0%Electro deposition~%0%n/a} of {1:MULTICHOICE:%0%Silicon (Si)~%0%poly Silicon (p-Si)~%0%SiO<sub>2</sub> (Silicon Dioxide)~%0%Si<sub>3</sub>N<sub>4</sub> (Silicon Nitride)~%0%Al (Aluminium)~%0%Au (Gold)~%0%Cr (Chromium)~%0%Ni (Nickel)~%0%Pt (Platinum)~%0%Ti (Titanium)~%100%n/a}\n",
            "\r\n",
            "Step   7: {2:MULTICHOICE:%0%UV Lithography~%0%DUV Lithography~%0%EUV Lithography~%0%DWL~%0%Electro beam lithography (EBL)~%0%Thermal Oxidation~%0%Thermal Evaporation (ebeam)~%0%Sputtering~%0%CVD~%0%LPCVD~%0%PECVD~%0%Lift-Off~%0%Vapor etching~%0%Pure chemical plasma etching~%0%Pure physical plasma etching~%100%RIE~%0%DRIE~%0%Inhibitor driven anisotropy~%0%Standard wet etching (isotropic)~%0%Anisotropic wet etching (KOH)~%0%Electro deposition~%0%n/a} of {3:MULTICHOICE:%0%Silicon (Si)~%0%poly Silicon (p-Si)~%0%SiO<sub>2</sub> (Silicon Dioxide)~%100%Si<sub>3</sub>N<sub>4</sub> (Silicon Nitride)~%0%Al (Aluminium)~%0%Au (Gold)~%0%Cr (Chromium)~%0%Ni (Nickel)~%0%Pt (Platinum)~%0%Ti (Titanium)~%0%n/a}\n",
            "\r\n",
            "Step   8: {1:MULTICHOICE:%0%UV Lithography~%0%DUV Lithography~%0%EUV Lithography~%0%DWL~%0%Electro beam lithography (EBL)~%0%Thermal Oxidation~%0%Thermal Evaporation (ebeam)~%0%Sputtering~%0%CVD~%0%LPCVD~%0%PECVD~%0%Lift-Off~%0%Vapor etching~%0%Pure chemical plasma etching~%0%Pure physical plasma etching~%0%RIE~%0%DRIE~%0%Inhibitor driven anisotropy~%0%Standard wet etching (isotropic)~%0%Anisotropic wet etching (KOH)~%0%Electro deposition~%100%n/a} of {1:MULTICHOICE:%0%Silicon (Si)~%0%poly Silicon (p-Si)~%0%SiO<sub>2</sub> (Silicon Dioxide)~%0%Si<sub>3</sub>N<sub>4</sub> (Silicon Nitride)~%0%Al (Aluminium)~%0%Au (Gold)~%0%Cr (Chromium)~%0%Ni (Nickel)~%0%Pt (Platinum)~%0%Ti (Titanium)~%100%n/a}\n",
            "\r\n",
            "Step   9: {1:MULTICHOICE:%0%UV Lithography~%0%DUV Lithography~%0%EUV Lithography~%0%DWL~%0%Electro beam lithography (EBL)~%0%Thermal Oxidation~%0%Thermal Evaporation (ebeam)~%0%Sputtering~%0%CVD~%0%LPCVD~%0%PECVD~%0%Lift-Off~%0%Vapor etching~%0%Pure chemical plasma etching~%0%Pure physical plasma etching~%0%RIE~%0%DRIE~%0%Inhibitor driven anisotropy~%0%Standard wet etching (isotropic)~%0%Anisotropic wet etching (KOH)~%0%Electro deposition~%100%n/a} of {1:MULTICHOICE:%0%Silicon (Si)~%0%poly Silicon (p-Si)~%0%SiO<sub>2</sub> (Silicon Dioxide)~%0%Si<sub>3</sub>N<sub>4</sub> (Silicon Nitride)~%0%Al (Aluminium)~%0%Au (Gold)~%0%Cr (Chromium)~%0%Ni (Nickel)~%0%Pt (Platinum)~%0%Ti (Titanium)~%100%n/a}\n",
            "\r\n",
            "Step 10: {1:MULTICHOICE:%0%UV Lithography~%0%DUV Lithography~%0%EUV Lithography~%0%DWL~%0%Electro beam lithography (EBL)~%0%Thermal Oxidation~%0%Thermal Evaporation (ebeam)~%0%Sputtering~%0%CVD~%0%LPCVD~%0%PECVD~%0%Lift-Off~%0%Vapor etching~%0%Pure chemical plasma etching~%0%Pure physical plasma etching~%0%RIE~%0%DRIE~%0%Inhibitor driven anisotropy~%0%Standard wet etching (isotropic)~%0%Anisotropic wet etching (KOH)~%0%Electro deposition~%100%n/a} of {1:MULTICHOICE:%0%Silicon (Si)~%0%poly Silicon (p-Si)~%0%SiO<sub>2</sub> (Silicon Dioxide)~%0%Si<sub>3</sub>N<sub>4</sub> (Silicon Nitride)~%0%Al (Aluminium)~%0%Au (Gold)~%0%Cr (Chromium)~%0%Ni (Nickel)~%0%Pt (Platinum)~%0%Ti (Titanium)~%100%n/a}\n",
            "\r\n",
            "\n"
          ],
          "name": "stdout"
        }
      ]
    }
  ]
}